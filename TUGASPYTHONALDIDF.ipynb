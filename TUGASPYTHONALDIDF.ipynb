{
  "nbformat": 4,
  "nbformat_minor": 0,
  "metadata": {
    "colab": {
      "name": "Untitled1.ipynb",
      "provenance": [],
      "mount_file_id": "1hqZ_kODDkUXjkvu78jPGgSRrV48qYLK_",
      "authorship_tag": "ABX9TyPtYfeuj78jJ40t3XWSgbWv",
      "include_colab_link": true
    },
    "kernelspec": {
      "name": "python3",
      "display_name": "Python 3"
    }
  },
  "cells": [
    {
      "cell_type": "markdown",
      "metadata": {
        "id": "view-in-github",
        "colab_type": "text"
      },
      "source": [
        "<a href=\"https://colab.research.google.com/github/AldiDwiF/TUGASPYTHON11/blob/main/TUGASPYTHONALDIDF.ipynb\" target=\"_parent\"><img src=\"https://colab.research.google.com/assets/colab-badge.svg\" alt=\"Open In Colab\"/></a>"
      ]
    },
    {
      "cell_type": "code",
      "metadata": {
        "id": "aYqcFyExrWbo"
      },
      "source": [
        ""
      ],
      "execution_count": null,
      "outputs": []
    },
    {
      "cell_type": "code",
      "metadata": {
        "id": "H215ikbNVVZS",
        "colab": {
          "base_uri": "https://localhost:8080/"
        },
        "outputId": "98ffeccb-58d6-4795-f62c-87707e048611"
      },
      "source": [
        "cd /content/drive/MyDrive/Colab Notebooks/dataset"
      ],
      "execution_count": 1,
      "outputs": [
        {
          "output_type": "stream",
          "text": [
            "/content/drive/.shortcut-targets-by-id/104/dataset\n"
          ],
          "name": "stdout"
        }
      ]
    },
    {
      "cell_type": "code",
      "metadata": {
        "colab": {
          "base_uri": "https://localhost:8080/"
        },
        "id": "z7VB1d4wVdov",
        "outputId": "463707c9-01a1-4cc8-edda-193e787dd7b5"
      },
      "source": [
        "ls"
      ],
      "execution_count": 2,
      "outputs": [
        {
          "output_type": "stream",
          "text": [
            "\u001b[0m\u001b[01;34mGMB_01\u001b[0m/  \u001b[01;34mGMB_03\u001b[0m/  \u001b[01;34mGMB_05\u001b[0m/  \u001b[01;34mGMB_07\u001b[0m/  \u001b[01;34mGMB_09\u001b[0m/  \u001b[01;34mGMB_11\u001b[0m/\n",
            "\u001b[01;34mGMB_02\u001b[0m/  \u001b[01;34mGMB_04\u001b[0m/  \u001b[01;34mGMB_06\u001b[0m/  \u001b[01;34mGMB_08\u001b[0m/  \u001b[01;34mGMB_10\u001b[0m/  \u001b[01;34mnonGMB\u001b[0m/\n"
          ],
          "name": "stdout"
        }
      ]
    },
    {
      "cell_type": "code",
      "metadata": {
        "id": "5IGm26ZzVGBs"
      },
      "source": [
        "# import the necessary packages\n",
        "from keras.models import Sequential\n",
        "from keras.layers.core import Activation\n",
        "from keras.layers.core import Flatten\n",
        "from keras.layers.core import Dense\n",
        "from keras.optimizers import Adam\n",
        "from sklearn.preprocessing import LabelBinarizer\n",
        "from sklearn.model_selection import train_test_split\n",
        "from sklearn.metrics import classification_report\n",
        "from PIL import Image\n",
        "from imutils import paths\n",
        "import numpy as np\n",
        "import os"
      ],
      "execution_count": 3,
      "outputs": []
    },
    {
      "cell_type": "code",
      "metadata": {
        "id": "0-5PXYTsVGBw",
        "colab": {
          "base_uri": "https://localhost:8080/"
        },
        "outputId": "623f3782-24b2-4ce0-8af1-e595559a443c"
      },
      "source": [
        "print(\"[INFO] loading images...\")\n",
        "imagePaths1 = paths.list_images(\"GMB_01\")\n",
        "imagePaths2 = paths.list_images(\"GMB_03\")\n",
        "imagePaths3 = paths.list_images(\"GMB_07\")\n",
        "imagePaths4 = paths.list_images(\"GMB_08\")\n",
        "imagePaths5 = paths.list_images(\"GMB_09\")\n",
        "data = []\n",
        "labels = []"
      ],
      "execution_count": 4,
      "outputs": [
        {
          "output_type": "stream",
          "text": [
            "[INFO] loading images...\n"
          ],
          "name": "stdout"
        }
      ]
    },
    {
      "cell_type": "code",
      "metadata": {
        "id": "9Q-KXSsGVGB0"
      },
      "source": [
        "for imagePath in imagePaths1:\n",
        "  image = Image.open(imagePath)\n",
        "  image = np.array(image.resize((168, 168))) / 255.0 #normalisasi\n",
        "  data.append(image)\n",
        "\n",
        "  label = imagePath.split(os.path.sep)[-2]\n",
        "  labels.append(label)\n",
        "for imagePath in imagePaths2:\n",
        "  image = Image.open(imagePath)\n",
        "  image = np.array(image.resize((168, 168))) / 255.0 #normalisasi\n",
        "  data.append(image)\n",
        "\n",
        "  label = imagePath.split(os.path.sep)[-2]\n",
        "  labels.append(label)\n",
        "for imagePath in imagePaths3:\n",
        "  image = Image.open(imagePath)\n",
        "  image = np.array(image.resize((168, 168))) / 255.0 #normalisasi\n",
        "  data.append(image)\n",
        "\n",
        "  label = imagePath.split(os.path.sep)[-2]\n",
        "  labels.append(label)\n",
        "for imagePath in imagePaths4:\n",
        "  image = Image.open(imagePath)\n",
        "  image = np.array(image.resize((168, 168))) / 255.0 #normalisasi\n",
        "  data.append(image)\n",
        "\n",
        "  label = imagePath.split(os.path.sep)[-2]\n",
        "  labels.append(label)\n",
        "for imagePath in imagePaths5:\n",
        "  image = Image.open(imagePath)\n",
        "  image = np.array(image.resize((168, 168))) / 255.0 #normalisasi\n",
        "  data.append(image)\n",
        "\n",
        "  label = imagePath.split(os.path.sep)[-2]\n",
        "  labels.append(label)"
      ],
      "execution_count": 5,
      "outputs": []
    },
    {
      "cell_type": "code",
      "metadata": {
        "id": "Rzbolh88VGB2",
        "colab": {
          "base_uri": "https://localhost:8080/"
        },
        "outputId": "3eb5aa0c-bced-49d0-ab1e-5150fd0cd81e"
      },
      "source": [
        "print(labels)"
      ],
      "execution_count": 6,
      "outputs": [
        {
          "output_type": "stream",
          "text": [
            "['GMB_01', 'GMB_01', 'GMB_01', 'GMB_01', 'GMB_01', 'GMB_01', 'GMB_01', 'GMB_01', 'GMB_01', 'GMB_01', 'GMB_01', 'GMB_01', 'GMB_01', 'GMB_01', 'GMB_01', 'GMB_01', 'GMB_01', 'GMB_01', 'GMB_01', 'GMB_01', 'GMB_01', 'GMB_01', 'GMB_01', 'GMB_01', 'GMB_01', 'GMB_01', 'GMB_01', 'GMB_01', 'GMB_01', 'GMB_01', 'GMB_01', 'GMB_01', 'GMB_01', 'GMB_01', 'GMB_01', 'GMB_01', 'GMB_01', 'GMB_01', 'GMB_01', 'GMB_01', 'GMB_01', 'GMB_01', 'GMB_01', 'GMB_01', 'GMB_01', 'GMB_01', 'GMB_01', 'GMB_01', 'GMB_01', 'GMB_01', 'GMB_01', 'GMB_01', 'GMB_01', 'GMB_01', 'GMB_01', 'GMB_01', 'GMB_01', 'GMB_01', 'GMB_01', 'GMB_01', 'GMB_01', 'GMB_01', 'GMB_01', 'GMB_01', 'GMB_01', 'GMB_01', 'GMB_01', 'GMB_01', 'GMB_01', 'GMB_01', 'GMB_01', 'GMB_01', 'GMB_01', 'GMB_01', 'GMB_01', 'GMB_01', 'GMB_01', 'GMB_01', 'GMB_01', 'GMB_01', 'GMB_01', 'GMB_01', 'GMB_01', 'GMB_01', 'GMB_01', 'GMB_01', 'GMB_01', 'GMB_01', 'GMB_01', 'GMB_01', 'GMB_01', 'GMB_01', 'GMB_01', 'GMB_01', 'GMB_01', 'GMB_01', 'GMB_01', 'GMB_01', 'GMB_01', 'GMB_01', 'GMB_01', 'GMB_01', 'GMB_01', 'GMB_01', 'GMB_01', 'GMB_01', 'GMB_01', 'GMB_01', 'GMB_01', 'GMB_01', 'GMB_01', 'GMB_01', 'GMB_01', 'GMB_01', 'GMB_01', 'GMB_01', 'GMB_03', 'GMB_03', 'GMB_03', 'GMB_03', 'GMB_03', 'GMB_03', 'GMB_03', 'GMB_03', 'GMB_03', 'GMB_03', 'GMB_03', 'GMB_03', 'GMB_03', 'GMB_03', 'GMB_03', 'GMB_03', 'GMB_03', 'GMB_03', 'GMB_03', 'GMB_03', 'GMB_03', 'GMB_03', 'GMB_03', 'GMB_03', 'GMB_03', 'GMB_03', 'GMB_03', 'GMB_03', 'GMB_03', 'GMB_03', 'GMB_03', 'GMB_03', 'GMB_03', 'GMB_03', 'GMB_03', 'GMB_03', 'GMB_03', 'GMB_03', 'GMB_03', 'GMB_03', 'GMB_03', 'GMB_03', 'GMB_03', 'GMB_03', 'GMB_03', 'GMB_03', 'GMB_03', 'GMB_03', 'GMB_03', 'GMB_03', 'GMB_03', 'GMB_03', 'GMB_03', 'GMB_03', 'GMB_03', 'GMB_03', 'GMB_03', 'GMB_03', 'GMB_03', 'GMB_03', 'GMB_03', 'GMB_03', 'GMB_03', 'GMB_03', 'GMB_03', 'GMB_03', 'GMB_03', 'GMB_03', 'GMB_03', 'GMB_03', 'GMB_03', 'GMB_03', 'GMB_03', 'GMB_03', 'GMB_03', 'GMB_03', 'GMB_03', 'GMB_03', 'GMB_03', 'GMB_03', 'GMB_03', 'GMB_03', 'GMB_03', 'GMB_03', 'GMB_03', 'GMB_03', 'GMB_03', 'GMB_03', 'GMB_03', 'GMB_03', 'GMB_03', 'GMB_03', 'GMB_03', 'GMB_03', 'GMB_03', 'GMB_03', 'GMB_03', 'GMB_03', 'GMB_03', 'GMB_03', 'GMB_03', 'GMB_03', 'GMB_03', 'GMB_03', 'GMB_03', 'GMB_03', 'GMB_03', 'GMB_03', 'GMB_03', 'GMB_03', 'GMB_03', 'GMB_03', 'GMB_07', 'GMB_07', 'GMB_07', 'GMB_07', 'GMB_07', 'GMB_07', 'GMB_07', 'GMB_07', 'GMB_07', 'GMB_07', 'GMB_07', 'GMB_07', 'GMB_07', 'GMB_07', 'GMB_07', 'GMB_07', 'GMB_07', 'GMB_07', 'GMB_07', 'GMB_07', 'GMB_07', 'GMB_07', 'GMB_07', 'GMB_07', 'GMB_07', 'GMB_07', 'GMB_07', 'GMB_07', 'GMB_07', 'GMB_07', 'GMB_07', 'GMB_07', 'GMB_07', 'GMB_07', 'GMB_07', 'GMB_07', 'GMB_07', 'GMB_07', 'GMB_07', 'GMB_07', 'GMB_07', 'GMB_07', 'GMB_07', 'GMB_07', 'GMB_07', 'GMB_07', 'GMB_07', 'GMB_07', 'GMB_07', 'GMB_07', 'GMB_07', 'GMB_07', 'GMB_07', 'GMB_07', 'GMB_07', 'GMB_07', 'GMB_07', 'GMB_07', 'GMB_07', 'GMB_07', 'GMB_07', 'GMB_07', 'GMB_07', 'GMB_07', 'GMB_07', 'GMB_07', 'GMB_07', 'GMB_07', 'GMB_07', 'GMB_07', 'GMB_07', 'GMB_07', 'GMB_07', 'GMB_07', 'GMB_07', 'GMB_07', 'GMB_07', 'GMB_07', 'GMB_07', 'GMB_07', 'GMB_07', 'GMB_07', 'GMB_07', 'GMB_07', 'GMB_07', 'GMB_07', 'GMB_07', 'GMB_07', 'GMB_07', 'GMB_07', 'GMB_07', 'GMB_07', 'GMB_07', 'GMB_07', 'GMB_07', 'GMB_07', 'GMB_07', 'GMB_07', 'GMB_07', 'GMB_07', 'GMB_07', 'GMB_07', 'GMB_07', 'GMB_07', 'GMB_07', 'GMB_07', 'GMB_07', 'GMB_07', 'GMB_07', 'GMB_07', 'GMB_07', 'GMB_07', 'GMB_07', 'GMB_07', 'GMB_07', 'GMB_07', 'GMB_07', 'GMB_07', 'GMB_07', 'GMB_07', 'GMB_07', 'GMB_08', 'GMB_08', 'GMB_08', 'GMB_08', 'GMB_08', 'GMB_08', 'GMB_08', 'GMB_08', 'GMB_08', 'GMB_08', 'GMB_08', 'GMB_08', 'GMB_08', 'GMB_08', 'GMB_08', 'GMB_08', 'GMB_08', 'GMB_08', 'GMB_08', 'GMB_08', 'GMB_08', 'GMB_08', 'GMB_08', 'GMB_08', 'GMB_08', 'GMB_08', 'GMB_08', 'GMB_08', 'GMB_08', 'GMB_08', 'GMB_08', 'GMB_08', 'GMB_08', 'GMB_08', 'GMB_08', 'GMB_08', 'GMB_08', 'GMB_08', 'GMB_08', 'GMB_08', 'GMB_08', 'GMB_08', 'GMB_08', 'GMB_08', 'GMB_08', 'GMB_08', 'GMB_08', 'GMB_08', 'GMB_08', 'GMB_08', 'GMB_08', 'GMB_08', 'GMB_08', 'GMB_08', 'GMB_08', 'GMB_08', 'GMB_08', 'GMB_08', 'GMB_08', 'GMB_08', 'GMB_08', 'GMB_08', 'GMB_08', 'GMB_08', 'GMB_08', 'GMB_08', 'GMB_08', 'GMB_08', 'GMB_08', 'GMB_08', 'GMB_08', 'GMB_08', 'GMB_08', 'GMB_08', 'GMB_08', 'GMB_08', 'GMB_08', 'GMB_08', 'GMB_08', 'GMB_08', 'GMB_08', 'GMB_08', 'GMB_08', 'GMB_08', 'GMB_08', 'GMB_08', 'GMB_08', 'GMB_08', 'GMB_08', 'GMB_08', 'GMB_08', 'GMB_08', 'GMB_08', 'GMB_08', 'GMB_08', 'GMB_08', 'GMB_08', 'GMB_08', 'GMB_08', 'GMB_08', 'GMB_08', 'GMB_08', 'GMB_08', 'GMB_08', 'GMB_08', 'GMB_08', 'GMB_08', 'GMB_08', 'GMB_08', 'GMB_08', 'GMB_08', 'GMB_08', 'GMB_08', 'GMB_08', 'GMB_08', 'GMB_08', 'GMB_08', 'GMB_09', 'GMB_09', 'GMB_09', 'GMB_09', 'GMB_09', 'GMB_09', 'GMB_09', 'GMB_09', 'GMB_09', 'GMB_09', 'GMB_09', 'GMB_09', 'GMB_09', 'GMB_09', 'GMB_09', 'GMB_09', 'GMB_09', 'GMB_09', 'GMB_09', 'GMB_09', 'GMB_09', 'GMB_09', 'GMB_09', 'GMB_09', 'GMB_09', 'GMB_09', 'GMB_09', 'GMB_09', 'GMB_09', 'GMB_09', 'GMB_09', 'GMB_09', 'GMB_09', 'GMB_09', 'GMB_09', 'GMB_09', 'GMB_09', 'GMB_09', 'GMB_09', 'GMB_09', 'GMB_09', 'GMB_09', 'GMB_09', 'GMB_09', 'GMB_09', 'GMB_09', 'GMB_09', 'GMB_09', 'GMB_09', 'GMB_09', 'GMB_09', 'GMB_09', 'GMB_09', 'GMB_09', 'GMB_09', 'GMB_09', 'GMB_09', 'GMB_09', 'GMB_09', 'GMB_09', 'GMB_09', 'GMB_09', 'GMB_09', 'GMB_09', 'GMB_09', 'GMB_09', 'GMB_09', 'GMB_09', 'GMB_09', 'GMB_09', 'GMB_09', 'GMB_09', 'GMB_09', 'GMB_09', 'GMB_09', 'GMB_09', 'GMB_09', 'GMB_09', 'GMB_09', 'GMB_09', 'GMB_09', 'GMB_09', 'GMB_09', 'GMB_09', 'GMB_09', 'GMB_09', 'GMB_09', 'GMB_09', 'GMB_09', 'GMB_09', 'GMB_09', 'GMB_09', 'GMB_09', 'GMB_09', 'GMB_09', 'GMB_09', 'GMB_09', 'GMB_09', 'GMB_09', 'GMB_09', 'GMB_09', 'GMB_09', 'GMB_09', 'GMB_09', 'GMB_09', 'GMB_09', 'GMB_09', 'GMB_09', 'GMB_09', 'GMB_09', 'GMB_09', 'GMB_09', 'GMB_09', 'GMB_09', 'GMB_09']\n"
          ],
          "name": "stdout"
        }
      ]
    },
    {
      "cell_type": "code",
      "metadata": {
        "id": "twd1IeuKVGB5"
      },
      "source": [
        "# encode the labels, converting them from strings to integers\n",
        "lb = LabelBinarizer()\n",
        "labels = lb.fit_transform(labels)"
      ],
      "execution_count": 7,
      "outputs": []
    },
    {
      "cell_type": "code",
      "metadata": {
        "id": "5FPCyIqcVGB7",
        "colab": {
          "base_uri": "https://localhost:8080/"
        },
        "outputId": "d963acc9-3281-460d-e54e-3f15cee451b8"
      },
      "source": [
        "print(labels)"
      ],
      "execution_count": 8,
      "outputs": [
        {
          "output_type": "stream",
          "text": [
            "[[1 0 0 0 0]\n",
            " [1 0 0 0 0]\n",
            " [1 0 0 0 0]\n",
            " ...\n",
            " [0 0 0 0 1]\n",
            " [0 0 0 0 1]\n",
            " [0 0 0 0 1]]\n"
          ],
          "name": "stdout"
        }
      ]
    },
    {
      "cell_type": "code",
      "metadata": {
        "id": "ktZ5hNYwVGB9",
        "colab": {
          "base_uri": "https://localhost:8080/"
        },
        "outputId": "372a158c-59fe-4a2f-d1bc-3e8208286765"
      },
      "source": [
        "# perform a training and testing split, using 75% of the data for\n",
        "# training and 25% for evaluation\n",
        "(trainX, testX, trainY, testY) = train_test_split(np.array(data),\tnp.array(labels), test_size=0.25, shuffle=True)\n",
        "print(trainX.shape)\n",
        "print(testX.shape)"
      ],
      "execution_count": 9,
      "outputs": [
        {
          "output_type": "stream",
          "text": [
            "(435, 168, 168, 3)\n",
            "(146, 168, 168, 3)\n"
          ],
          "name": "stdout"
        }
      ]
    },
    {
      "cell_type": "code",
      "metadata": {
        "id": "MSxR7GLQvrUP",
        "colab": {
          "base_uri": "https://localhost:8080/"
        },
        "outputId": "e0ae78d5-32bf-49cb-b43d-8857bb60f059"
      },
      "source": [
        "from keras.layers import Convolution2D, MaxPool2D\n",
        "from keras.models import Sequential\n",
        "from keras.layers.core import Flatten, Dense\n",
        "\n",
        "model1 = Sequential()\n",
        "model1.add(Convolution2D(8, (3,3), activation='relu', input_shape=(168,168,3)))\n",
        "model1.add(MaxPool2D(2,2))\n",
        "model1.add(Convolution2D(16, (3,3), activation='relu'))\n",
        "model1.add(MaxPool2D(2,2))\n",
        "#fully connected layer\n",
        "model1.add(Flatten())\n",
        "model1.add(Dense(100, activation='relu'))\n",
        "model1.add(Dense(5, activation='softmax'))\n",
        "\n",
        "model1.summary()"
      ],
      "execution_count": 10,
      "outputs": [
        {
          "output_type": "stream",
          "text": [
            "Model: \"sequential\"\n",
            "_________________________________________________________________\n",
            "Layer (type)                 Output Shape              Param #   \n",
            "=================================================================\n",
            "conv2d (Conv2D)              (None, 166, 166, 8)       224       \n",
            "_________________________________________________________________\n",
            "max_pooling2d (MaxPooling2D) (None, 83, 83, 8)         0         \n",
            "_________________________________________________________________\n",
            "conv2d_1 (Conv2D)            (None, 81, 81, 16)        1168      \n",
            "_________________________________________________________________\n",
            "max_pooling2d_1 (MaxPooling2 (None, 40, 40, 16)        0         \n",
            "_________________________________________________________________\n",
            "flatten (Flatten)            (None, 25600)             0         \n",
            "_________________________________________________________________\n",
            "dense (Dense)                (None, 100)               2560100   \n",
            "_________________________________________________________________\n",
            "dense_1 (Dense)              (None, 5)                 505       \n",
            "=================================================================\n",
            "Total params: 2,561,997\n",
            "Trainable params: 2,561,997\n",
            "Non-trainable params: 0\n",
            "_________________________________________________________________\n"
          ],
          "name": "stdout"
        }
      ]
    },
    {
      "cell_type": "code",
      "metadata": {
        "id": "ggcSdj_aVGCB",
        "scrolled": true,
        "colab": {
          "base_uri": "https://localhost:8080/"
        },
        "outputId": "91b78c20-8637-4bab-d071-efc9f1907c53"
      },
      "source": [
        "# train the model using the Adam optimizer\n",
        "print(\"[INFO] training network...\")\n",
        "opt = Adam(lr=1e-3, decay=1e-3 / 50)\n",
        "model1.compile(loss=\"categorical_crossentropy\", optimizer=opt, metrics=[\"accuracy\"])"
      ],
      "execution_count": 11,
      "outputs": [
        {
          "output_type": "stream",
          "text": [
            "[INFO] training network...\n"
          ],
          "name": "stdout"
        }
      ]
    },
    {
      "cell_type": "code",
      "metadata": {
        "id": "3bbMakb0w-XZ",
        "colab": {
          "base_uri": "https://localhost:8080/"
        },
        "outputId": "2b106afc-7b68-4302-b9df-2254ee4f49f9"
      },
      "source": [
        "H = model1.fit(trainX, trainY, validation_data=(testX, testY), epochs=30, batch_size=32)"
      ],
      "execution_count": 12,
      "outputs": [
        {
          "output_type": "stream",
          "text": [
            "Epoch 1/30\n",
            "14/14 [==============================] - 6s 397ms/step - loss: 1.7979 - accuracy: 0.2345 - val_loss: 1.5747 - val_accuracy: 0.2260\n",
            "Epoch 2/30\n",
            "14/14 [==============================] - 5s 391ms/step - loss: 1.4301 - accuracy: 0.4782 - val_loss: 1.3269 - val_accuracy: 0.5137\n",
            "Epoch 3/30\n",
            "14/14 [==============================] - 6s 393ms/step - loss: 1.1695 - accuracy: 0.5540 - val_loss: 1.3957 - val_accuracy: 0.5000\n",
            "Epoch 4/30\n",
            "14/14 [==============================] - 5s 392ms/step - loss: 0.9175 - accuracy: 0.6966 - val_loss: 0.9521 - val_accuracy: 0.7055\n",
            "Epoch 5/30\n",
            "14/14 [==============================] - 5s 393ms/step - loss: 0.6808 - accuracy: 0.7862 - val_loss: 0.7368 - val_accuracy: 0.7603\n",
            "Epoch 6/30\n",
            "14/14 [==============================] - 6s 393ms/step - loss: 0.4999 - accuracy: 0.8644 - val_loss: 0.6724 - val_accuracy: 0.7603\n",
            "Epoch 7/30\n",
            "14/14 [==============================] - 6s 395ms/step - loss: 0.3871 - accuracy: 0.8782 - val_loss: 0.5905 - val_accuracy: 0.8288\n",
            "Epoch 8/30\n",
            "14/14 [==============================] - 6s 394ms/step - loss: 0.2894 - accuracy: 0.9333 - val_loss: 0.6278 - val_accuracy: 0.8014\n",
            "Epoch 9/30\n",
            "14/14 [==============================] - 6s 397ms/step - loss: 0.2335 - accuracy: 0.9402 - val_loss: 0.5818 - val_accuracy: 0.8356\n",
            "Epoch 10/30\n",
            "14/14 [==============================] - 5s 392ms/step - loss: 0.2097 - accuracy: 0.9517 - val_loss: 0.5300 - val_accuracy: 0.8562\n",
            "Epoch 11/30\n",
            "14/14 [==============================] - 5s 393ms/step - loss: 0.1522 - accuracy: 0.9655 - val_loss: 0.5424 - val_accuracy: 0.8699\n",
            "Epoch 12/30\n",
            "14/14 [==============================] - 6s 395ms/step - loss: 0.1044 - accuracy: 0.9908 - val_loss: 0.5520 - val_accuracy: 0.8767\n",
            "Epoch 13/30\n",
            "14/14 [==============================] - 8s 543ms/step - loss: 0.1204 - accuracy: 0.9701 - val_loss: 0.6841 - val_accuracy: 0.8219\n",
            "Epoch 14/30\n",
            "14/14 [==============================] - 6s 396ms/step - loss: 0.1057 - accuracy: 0.9747 - val_loss: 0.5432 - val_accuracy: 0.8630\n",
            "Epoch 15/30\n",
            "14/14 [==============================] - 5s 392ms/step - loss: 0.0503 - accuracy: 1.0000 - val_loss: 0.5403 - val_accuracy: 0.8904\n",
            "Epoch 16/30\n",
            "14/14 [==============================] - 6s 398ms/step - loss: 0.0325 - accuracy: 1.0000 - val_loss: 0.5563 - val_accuracy: 0.8973\n",
            "Epoch 17/30\n",
            "14/14 [==============================] - 6s 397ms/step - loss: 0.0276 - accuracy: 1.0000 - val_loss: 0.5572 - val_accuracy: 0.8630\n",
            "Epoch 18/30\n",
            "14/14 [==============================] - 6s 400ms/step - loss: 0.0258 - accuracy: 1.0000 - val_loss: 0.5347 - val_accuracy: 0.8904\n",
            "Epoch 19/30\n",
            "14/14 [==============================] - 6s 399ms/step - loss: 0.0214 - accuracy: 1.0000 - val_loss: 0.5500 - val_accuracy: 0.8904\n",
            "Epoch 20/30\n",
            "14/14 [==============================] - 6s 396ms/step - loss: 0.0167 - accuracy: 1.0000 - val_loss: 0.5622 - val_accuracy: 0.8973\n",
            "Epoch 21/30\n",
            "14/14 [==============================] - 6s 398ms/step - loss: 0.0126 - accuracy: 1.0000 - val_loss: 0.5753 - val_accuracy: 0.8973\n",
            "Epoch 22/30\n",
            "14/14 [==============================] - 6s 399ms/step - loss: 0.0106 - accuracy: 1.0000 - val_loss: 0.6042 - val_accuracy: 0.8973\n",
            "Epoch 23/30\n",
            "14/14 [==============================] - 6s 397ms/step - loss: 0.0087 - accuracy: 1.0000 - val_loss: 0.6014 - val_accuracy: 0.8973\n",
            "Epoch 24/30\n",
            "14/14 [==============================] - 6s 398ms/step - loss: 0.0073 - accuracy: 1.0000 - val_loss: 0.6081 - val_accuracy: 0.8973\n",
            "Epoch 25/30\n",
            "14/14 [==============================] - 6s 399ms/step - loss: 0.0064 - accuracy: 1.0000 - val_loss: 0.6014 - val_accuracy: 0.8904\n",
            "Epoch 26/30\n",
            "14/14 [==============================] - 6s 399ms/step - loss: 0.0059 - accuracy: 1.0000 - val_loss: 0.6253 - val_accuracy: 0.8973\n",
            "Epoch 27/30\n",
            "14/14 [==============================] - 6s 399ms/step - loss: 0.0054 - accuracy: 1.0000 - val_loss: 0.6128 - val_accuracy: 0.8904\n",
            "Epoch 28/30\n",
            "14/14 [==============================] - 6s 399ms/step - loss: 0.0048 - accuracy: 1.0000 - val_loss: 0.6358 - val_accuracy: 0.8973\n",
            "Epoch 29/30\n",
            "14/14 [==============================] - 6s 400ms/step - loss: 0.0043 - accuracy: 1.0000 - val_loss: 0.6308 - val_accuracy: 0.8904\n",
            "Epoch 30/30\n",
            "14/14 [==============================] - 6s 398ms/step - loss: 0.0039 - accuracy: 1.0000 - val_loss: 0.6432 - val_accuracy: 0.8973\n"
          ],
          "name": "stdout"
        }
      ]
    },
    {
      "cell_type": "code",
      "metadata": {
        "id": "98_oXi-lcgux",
        "colab": {
          "base_uri": "https://localhost:8080/",
          "height": 592
        },
        "outputId": "b8d5fde6-441b-4eea-f6b3-be9e5ab3983b"
      },
      "source": [
        "import matplotlib.pyplot as plt\n",
        "\n",
        "print(H.history.keys())\n",
        "# summarize history for accuracy\n",
        "plt.plot(H.history['accuracy'])\n",
        "plt.plot(H.history['val_accuracy'])\n",
        "plt.title('model accuracy')\n",
        "plt.ylabel('accuracy')\n",
        "plt.xlabel('epoch')\n",
        "plt.legend(['train', 'test'], loc='upper left')\n",
        "plt.show()\n",
        "# summarize history for loss\n",
        "plt.plot(H.history['loss'])\n",
        "plt.plot(H.history['val_loss'])\n",
        "plt.title('model loss')\n",
        "plt.ylabel('loss')\n",
        "plt.xlabel('epoch')\n",
        "plt.legend(['train', 'test'], loc='upper left')\n",
        "plt.show()"
      ],
      "execution_count": 13,
      "outputs": [
        {
          "output_type": "stream",
          "text": [
            "dict_keys(['loss', 'accuracy', 'val_loss', 'val_accuracy'])\n"
          ],
          "name": "stdout"
        },
        {
          "output_type": "display_data",
          "data": {
            "image/png": "[encoded data removed]",
            "text/plain": [
              "<Figure size 432x288 with 1 Axes>"
            ]
          },
          "metadata": {
            "tags": [],
            "needs_background": "light"
          }
        },
        {
          "output_type": "display_data",
          "data": {
            "image/png": "[encoded data removed]",
            "text/plain": [
              "<Figure size 432x288 with 1 Axes>"
            ]
          },
          "metadata": {
            "tags": [],
            "needs_background": "light"
          }
        }
      ]
    },
    {
      "cell_type": "code",
      "metadata": {
        "id": "lPAZkmBJVGCD",
        "colab": {
          "base_uri": "https://localhost:8080/"
        },
        "outputId": "0d16df04-ae27-4b41-9ebe-a32c42aa8ffe"
      },
      "source": [
        "# evaluate the network\n",
        "print(\"[INFO] evaluating network...\")\n",
        "predictions = model1.predict(testX, batch_size=32)\n",
        "print(classification_report(testY.argmax(axis=1),\n",
        "\tpredictions.argmax(axis=1), target_names=lb.classes_))"
      ],
      "execution_count": 14,
      "outputs": [
        {
          "output_type": "stream",
          "text": [
            "[INFO] evaluating network...\n",
            "              precision    recall  f1-score   support\n",
            "\n",
            "      GMB_01       0.97      0.89      0.93        35\n",
            "      GMB_03       0.88      0.79      0.83        19\n",
            "      GMB_07       0.79      0.93      0.86        29\n",
            "      GMB_08       0.92      0.92      0.92        38\n",
            "      GMB_09       0.92      0.92      0.92        25\n",
            "\n",
            "    accuracy                           0.90       146\n",
            "   macro avg       0.90      0.89      0.89       146\n",
            "weighted avg       0.90      0.90      0.90       146\n",
            "\n"
          ],
          "name": "stdout"
        }
      ]
    },
    {
      "cell_type": "code",
      "metadata": {
        "colab": {
          "base_uri": "https://localhost:8080/"
        },
        "id": "NQcNvdOeAQTt",
        "outputId": "7cce4a5b-2136-4d4a-a0f8-ef4a7c0de8b4"
      },
      "source": [
        "cd /content/drive/MyDrive/Colab Notebooks/"
      ],
      "execution_count": 15,
      "outputs": [
        {
          "output_type": "stream",
          "text": [
            "/content/drive/MyDrive/Colab Notebooks\n"
          ],
          "name": "stdout"
        }
      ]
    },
    {
      "cell_type": "code",
      "metadata": {
        "colab": {
          "base_uri": "https://localhost:8080/"
        },
        "id": "wMdUR2iEAX_i",
        "outputId": "f97d9faf-1fe4-4b42-a5e5-b25efe79641d"
      },
      "source": [
        "ls"
      ],
      "execution_count": 16,
      "outputs": [
        {
          "output_type": "stream",
          "text": [
            "\u001b[0m\u001b[01;36mdataset\u001b[0m@  daun.jpg  \u001b[01;34mnnmodel_scene\u001b[0m/  Untitled0.ipynb  Untitled1.ipynb\n"
          ],
          "name": "stdout"
        }
      ]
    },
    {
      "cell_type": "code",
      "metadata": {
        "id": "4uBcj8x8iwTw",
        "colab": {
          "base_uri": "https://localhost:8080/"
        },
        "outputId": "e02c71fe-4ef1-4cbd-fca0-29dee1f8bca0"
      },
      "source": [
        "model1.save('nnmodel_scene')"
      ],
      "execution_count": 17,
      "outputs": [
        {
          "output_type": "stream",
          "text": [
            "WARNING:tensorflow:From /usr/local/lib/python3.6/dist-packages/tensorflow/python/training/tracking/tracking.py:111: Model.state_updates (from tensorflow.python.keras.engine.training) is deprecated and will be removed in a future version.\n",
            "Instructions for updating:\n",
            "This property should not be used in TensorFlow 2.0, as updates are applied automatically.\n",
            "WARNING:tensorflow:From /usr/local/lib/python3.6/dist-packages/tensorflow/python/training/tracking/tracking.py:111: Layer.updates (from tensorflow.python.keras.engine.base_layer) is deprecated and will be removed in a future version.\n",
            "Instructions for updating:\n",
            "This property should not be used in TensorFlow 2.0, as updates are applied automatically.\n",
            "INFO:tensorflow:Assets written to: nnmodel_scene/assets\n"
          ],
          "name": "stdout"
        }
      ]
    },
    {
      "cell_type": "code",
      "metadata": {
        "id": "AOwJT2jLVGCN"
      },
      "source": [
        "import cv2\n",
        "import matplotlib.pyplot as plt\n",
        "image1='daun.jpg'"
      ],
      "execution_count": 18,
      "outputs": []
    },
    {
      "cell_type": "code",
      "metadata": {
        "id": "PkM68K4GVGCP",
        "colab": {
          "base_uri": "https://localhost:8080/",
          "height": 288
        },
        "outputId": "9ffb1965-abb1-4a14-9dba-810603fc15d1"
      },
      "source": [
        "img_array = cv2.imread(image1)\n",
        "print(type(img_array))\n",
        "plt.imshow(img_array)\n",
        "plt.show()\n"
      ],
      "execution_count": 19,
      "outputs": [
        {
          "output_type": "stream",
          "text": [
            "<class 'numpy.ndarray'>\n"
          ],
          "name": "stdout"
        },
        {
          "output_type": "display_data",
          "data": {
            "image/png": "[encoded data removed]",
            "text/plain": [
              "<Figure size 432x288 with 1 Axes>"
            ]
          },
          "metadata": {
            "tags": [],
            "needs_background": "light"
          }
        }
      ]
    },
    {
      "cell_type": "code",
      "metadata": {
        "id": "1ZkNY8LWVGCR",
        "colab": {
          "base_uri": "https://localhost:8080/"
        },
        "outputId": "788ff09d-58d7-4635-99d6-2f462a660722"
      },
      "source": [
        "image_testing = Image.open('daun.jpg')\n",
        "image_testing = np.array(image_testing.resize((168, 168))) / 255.0\n",
        "image_testing.shape"
      ],
      "execution_count": 20,
      "outputs": [
        {
          "output_type": "execute_result",
          "data": {
            "text/plain": [
              "(168, 168, 3)"
            ]
          },
          "metadata": {
            "tags": []
          },
          "execution_count": 20
        }
      ]
    },
    {
      "cell_type": "code",
      "metadata": {
        "id": "qL66nfOcVGCT",
        "colab": {
          "base_uri": "https://localhost:8080/"
        },
        "outputId": "ff759259-2f8f-4f2c-cb91-4f1cc1a1f8fe"
      },
      "source": [
        "image_testing = np.expand_dims(image_testing, axis=0)\n",
        "print(image_testing.shape)"
      ],
      "execution_count": 21,
      "outputs": [
        {
          "output_type": "stream",
          "text": [
            "(1, 168, 168, 3)\n"
          ],
          "name": "stdout"
        }
      ]
    },
    {
      "cell_type": "code",
      "metadata": {
        "id": "vTy9yP1AVGCV",
        "colab": {
          "base_uri": "https://localhost:8080/"
        },
        "outputId": "5ba74645-fccc-4511-87c5-7571546f8ff6"
      },
      "source": [
        "output = model1.predict(image_testing, 1)\n",
        "print(output)\n",
        "print(lb.classes_[output.argmax(axis=1)])"
      ],
      "execution_count": 22,
      "outputs": [
        {
          "output_type": "stream",
          "text": [
            "[[9.9953735e-01 3.7144506e-04 3.4294146e-05 5.0004586e-05 6.9610619e-06]]\n",
            "['GMB_01']\n"
          ],
          "name": "stdout"
        }
      ]
    }
  ]
}